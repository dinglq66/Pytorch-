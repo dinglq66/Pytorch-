{
 "cells": [
  {
   "cell_type": "code",
   "execution_count": 1,
   "source": [
    "import torch\r\n",
    "import numpy as np"
   ],
   "outputs": [],
   "metadata": {}
  },
  {
   "cell_type": "code",
   "execution_count": 5,
   "source": [
    "t_1 = torch.ones(2, 3)\r\n",
    "t_2 = torch.full((4, 3), 2)\r\n",
    "print('t_1:{}\\n size of t_1:{}'.format(t_1, t_1.size()))\r\n",
    "print('t_2:{}\\n size of t_2:{}'.format(t_2, t_2.size()))\r\n",
    "t_cat = torch.cat([t_1, t_2], dim=0)\r\n",
    "print('t_cat:{}\\n size of t_cat:{}'.format(t_cat, t_cat.size()))"
   ],
   "outputs": [
    {
     "output_type": "stream",
     "name": "stdout",
     "text": [
      "t_1:tensor([[1., 1., 1.],\n",
      "        [1., 1., 1.]])\n",
      " size of t_1:torch.Size([2, 3])\n",
      "t_2:tensor([[2, 2, 2],\n",
      "        [2, 2, 2],\n",
      "        [2, 2, 2],\n",
      "        [2, 2, 2]])\n",
      " size of t_2:torch.Size([4, 3])\n",
      "t_cat:tensor([[1., 1., 1.],\n",
      "        [1., 1., 1.],\n",
      "        [2., 2., 2.],\n",
      "        [2., 2., 2.],\n",
      "        [2., 2., 2.],\n",
      "        [2., 2., 2.]])\n",
      " size of t_cat:torch.Size([6, 3])\n"
     ]
    }
   ],
   "metadata": {}
  },
  {
   "cell_type": "code",
   "execution_count": 6,
   "source": [
    "t_1 = torch.full((3, 2), 3)\r\n",
    "t_2 = torch.full((3, 4), 4)\r\n",
    "print('t_1:{}\\n size of t_1:{}'.format(t_1, t_1.size()))\r\n",
    "print('t_2:{}\\n size of t_2:{}'.format(t_2, t_2.size()))\r\n",
    "t_cat = torch.cat([t_1, t_2], dim=1)\r\n",
    "print('t_cat:{}\\n size of t_cat:{}'.format(t_cat, t_cat.size()))"
   ],
   "outputs": [
    {
     "output_type": "stream",
     "name": "stdout",
     "text": [
      "t_1:tensor([[3, 3],\n",
      "        [3, 3],\n",
      "        [3, 3]])\n",
      " size of t_1:torch.Size([3, 2])\n",
      "t_2:tensor([[4, 4, 4, 4],\n",
      "        [4, 4, 4, 4],\n",
      "        [4, 4, 4, 4]])\n",
      " size of t_2:torch.Size([3, 4])\n",
      "t_cat:tensor([[3, 3, 4, 4, 4, 4],\n",
      "        [3, 3, 4, 4, 4, 4],\n",
      "        [3, 3, 4, 4, 4, 4]])\n",
      " size of t_cat:torch.Size([3, 6])\n"
     ]
    }
   ],
   "metadata": {}
  },
  {
   "cell_type": "code",
   "execution_count": 11,
   "source": [
    "t = torch.ones((2, 3))\r\n",
    "n = torch.zeros((2, 3))\r\n",
    "# dim = 2\r\n",
    "t_stack = torch.stack([t, t, n, t], dim=2)\r\n",
    "print('t_stack.shape: {}'.format(t_stack.size()))\r\n",
    "# dim = 1\r\n",
    "t_stack = torch.stack([t, t, t, t], dim=1)\r\n",
    "print('t_stack.shape: {}'.format(t_stack.size()))\r\n",
    "# dim = 0\r\n",
    "t_stack = torch.stack([t, t, t, t], dim=0)\r\n",
    "print('t_stack.shape: {}'.format(t_stack.size()))"
   ],
   "outputs": [
    {
     "output_type": "stream",
     "name": "stdout",
     "text": [
      "t_stack.shape: torch.Size([2, 3, 4])\n",
      "t_stack.shape: torch.Size([2, 4, 3])\n",
      "t_stack.shape: torch.Size([4, 2, 3])\n"
     ]
    }
   ],
   "metadata": {}
  },
  {
   "cell_type": "code",
   "execution_count": 16,
   "source": [
    "a = torch.ones((2, 7)) # 7\r\n",
    "list_of_tensors = torch.chunk(a, 3, dim=0)\r\n",
    "for idx, t in enumerate(list_of_tensors):\r\n",
    "    print('第{}个张量：{}, shape is {}'.format(idx+1, t, t.shape))"
   ],
   "outputs": [
    {
     "output_type": "stream",
     "name": "stdout",
     "text": [
      "第1个张量：tensor([[1., 1., 1., 1., 1., 1., 1.]]), shape is torch.Size([1, 7])\n",
      "第2个张量：tensor([[1., 1., 1., 1., 1., 1., 1.]]), shape is torch.Size([1, 7])\n"
     ]
    }
   ],
   "metadata": {}
  },
  {
   "cell_type": "code",
   "execution_count": 17,
   "source": [
    "t = torch.ones((2, 5))\r\n",
    "list_of_tensors = torch.split(t, [2, 1, 2], dim=1)\r\n",
    "for idx, t in enumerate(list_of_tensors):\r\n",
    "    print('第{}个张量：{}, shape is {}'.format(idx+1, t, t.shape))"
   ],
   "outputs": [
    {
     "output_type": "stream",
     "name": "stdout",
     "text": [
      "第1个张量：tensor([[1., 1.],\n",
      "        [1., 1.]]), shape is torch.Size([2, 2])\n",
      "第2个张量：tensor([[1.],\n",
      "        [1.]]), shape is torch.Size([2, 1])\n",
      "第3个张量：tensor([[1., 1.],\n",
      "        [1., 1.]]), shape is torch.Size([2, 2])\n"
     ]
    }
   ],
   "metadata": {}
  },
  {
   "cell_type": "code",
   "execution_count": 21,
   "source": [
    "# 创建整数均匀分布\r\n",
    "t = torch.randint(0, 9, size=(3, 3))\r\n",
    "# 注意idx的dtype不能指定为torch.float\r\n",
    "idx = torch.tensor([0, 2], dtype=torch.long)\r\n",
    "# 取出第0行和第2行;取出第0列和第2列\r\n",
    "t_select_0 = torch.index_select(t, index=idx, dim=0)\r\n",
    "t_select_1 = torch.index_select(t, index=idx, dim=1)\r\n",
    "print('t:\\n{}\\nt_select_0:\\n{}\\nt_select_1:{}'.format(t, t_select_0, t_select_1))"
   ],
   "outputs": [
    {
     "output_type": "stream",
     "name": "stdout",
     "text": [
      "t:\n",
      "tensor([[5, 6, 6],\n",
      "        [7, 2, 3],\n",
      "        [3, 5, 6]])\n",
      "t_select_0:\n",
      "tensor([[5, 6, 6],\n",
      "        [3, 5, 6]])\n",
      "t_select_1:tensor([[5, 6],\n",
      "        [7, 3],\n",
      "        [3, 6]])\n"
     ]
    }
   ],
   "metadata": {}
  },
  {
   "cell_type": "code",
   "execution_count": 26,
   "source": [
    "t = torch.randint(0, 9, size=(3, 3))\r\n",
    "mask = t.ge(5) # ge means greater than or equal; le means less than or equal\r\n",
    "# 取出大于5的数\r\n",
    "t_select = torch.masked_select(t, mask)\r\n",
    "print('t:\\n{}\\nmask:\\n{}\\nt_select:\\n{}'.format(t, mask, t_select))"
   ],
   "outputs": [
    {
     "output_type": "stream",
     "name": "stdout",
     "text": [
      "t:\n",
      "tensor([[6, 1, 4],\n",
      "        [0, 4, 5],\n",
      "        [1, 3, 5]])\n",
      "mask:\n",
      "tensor([[ True, False, False],\n",
      "        [False, False,  True],\n",
      "        [False, False,  True]])\n",
      "t_select:\n",
      "tensor([6, 5, 5])\n"
     ]
    }
   ],
   "metadata": {}
  },
  {
   "cell_type": "code",
   "execution_count": 30,
   "source": [
    "# 生成0到8的随机排列\r\n",
    "t = torch.randperm(8)\r\n",
    "# -1表示这个维度时根据其他维度计算出的\r\n",
    "t_reshape = torch.reshape(t, (-1, 2, 2))\r\n",
    "print('t:\\n{}\\nt_reshape:\\n{}'.format(t, t_reshape))\r\n",
    "print('shape of t:\\n{}\\nshape of t_reshape:\\n{}'.format(t.shape, t_reshape.shape))"
   ],
   "outputs": [
    {
     "output_type": "stream",
     "name": "stdout",
     "text": [
      "t:\n",
      "tensor([7, 1, 3, 2, 5, 0, 4, 6])\n",
      "t_reshape:\n",
      "tensor([[[7, 1],\n",
      "         [3, 2]],\n",
      "\n",
      "        [[5, 0],\n",
      "         [4, 6]]])\n",
      "shape of t:\n",
      "torch.Size([8])\n",
      "shape of t_reshape:\n",
      "torch.Size([2, 2, 2])\n"
     ]
    }
   ],
   "metadata": {}
  },
  {
   "cell_type": "code",
   "execution_count": 31,
   "source": [
    "# 修改张量t的第0个元素，张量t_reshape也会被改变\r\n",
    "t[0] = 1024\r\n",
    "print('t:{}\\nt_reshape:\\n{}'.format(t, t_reshape))\r\n",
    "print('t内存地址:{}'.format(id(t)))\r\n",
    "print('t.data内存地址:{}'.format(id(t.data)))\r\n",
    "print('t_reshape.data内存地址:{}'.format(id(t_reshape.data)))"
   ],
   "outputs": [
    {
     "output_type": "stream",
     "name": "stdout",
     "text": [
      "t:tensor([1024,    1,    3,    2,    5,    0,    4,    6])\n",
      "t_reshape:\n",
      "tensor([[[1024,    1],\n",
      "         [   3,    2]],\n",
      "\n",
      "        [[   5,    0],\n",
      "         [   4,    6]]])\n",
      "t内存地址:3051437709256\n",
      "t.data内存地址:3051437858392\n",
      "t_reshape.data内存地址:3051437858392\n"
     ]
    }
   ],
   "metadata": {}
  },
  {
   "cell_type": "code",
   "execution_count": 33,
   "source": [
    "# 把CxHxW变为HxWxC\r\n",
    "t = torch.rand((2, 3, 4))\r\n",
    "t_transpose = torch.transpose(t, dim0=1, dim1=2)\r\n",
    "print('t shape:{}\\nt_transpose shape:{}'.format(t.shape, t_transpose.shape))"
   ],
   "outputs": [
    {
     "output_type": "stream",
     "name": "stdout",
     "text": [
      "t shape:torch.Size([2, 3, 4])\n",
      "t_transpose shape:torch.Size([2, 4, 3])\n"
     ]
    }
   ],
   "metadata": {}
  },
  {
   "cell_type": "code",
   "execution_count": 35,
   "source": [
    "# 维度 0 和 3 的长度是 1\r\n",
    "t = torch.rand((1, 2, 3, 1))\r\n",
    "# 可以移除维度 0 和 3\r\n",
    "t_sq = torch.squeeze(t)\r\n",
    "# 可以移除维度 0\r\n",
    "t_0 = torch.squeeze(t, dim=0)\r\n",
    "# 不能移除 1\r\n",
    "t_1 = torch.squeeze(t, dim=1)\r\n",
    "print(\"t.shape: {}\".format(t.shape))\r\n",
    "print(\"t_sq.shape: {}\".format(t_sq.shape))\r\n",
    "print(\"t_0.shape: {}\".format(t_0.shape))\r\n",
    "print(\"t_1.shape: {}\".format(t_1.shape))"
   ],
   "outputs": [
    {
     "output_type": "stream",
     "name": "stdout",
     "text": [
      "t.shape: torch.Size([1, 2, 3, 1])\n",
      "t_sq.shape: torch.Size([2, 3])\n",
      "t_0.shape: torch.Size([2, 3, 1])\n",
      "t_1.shape: torch.Size([1, 2, 3, 1])\n"
     ]
    }
   ],
   "metadata": {}
  },
  {
   "cell_type": "code",
   "execution_count": 38,
   "source": [
    "t = torch.rand((2, 3))\r\n",
    "t_unsq = torch.unsqueeze(t, dim=1)\r\n",
    "print('t.shape:{}'.format(t.shape))\r\n",
    "print('t_unsq.shape:{}'.format(t_unsq.shape))"
   ],
   "outputs": [
    {
     "output_type": "stream",
     "name": "stdout",
     "text": [
      "t.shape:torch.Size([2, 3])\n",
      "t_unsq.shape:torch.Size([2, 1, 3])\n"
     ]
    }
   ],
   "metadata": {}
  },
  {
   "cell_type": "code",
   "execution_count": 52,
   "source": [
    "t_0 = torch.arange(6).reshape((2, 3))\r\n",
    "t_1 = torch.full((2, 1), 1)\r\n",
    "t = torch.add(t_0, t_1, alpha=2)\r\n",
    "print(t)"
   ],
   "outputs": [
    {
     "output_type": "stream",
     "name": "stdout",
     "text": [
      "tensor([[2, 3, 4],\n",
      "        [5, 6, 7]])\n"
     ]
    }
   ],
   "metadata": {}
  },
  {
   "cell_type": "code",
   "execution_count": 62,
   "source": [
    "t_0 = torch.arange(6, dtype=torch.float).reshape((2, 3))\r\n",
    "tensor1 = torch.full((2, 3), 6, dtype=torch.float)\r\n",
    "tensor2 = torch.full_like(tensor1, 2)\r\n",
    "t = torch.addcdiv(t_0, tensor1, tensor2, value=1)\r\n",
    "print(t)"
   ],
   "outputs": [
    {
     "output_type": "stream",
     "name": "stdout",
     "text": [
      "tensor([[3., 4., 5.],\n",
      "        [6., 7., 8.]])\n"
     ]
    }
   ],
   "metadata": {}
  },
  {
   "cell_type": "code",
   "execution_count": 6,
   "source": [
    "t_0 = torch.arange(6, dtype=torch.float).reshape(2, 3)\r\n",
    "tensor1 = torch.full((1, 3), 2, dtype=torch.float)\r\n",
    "tensor2 = torch.full_like(tensor1, 3, dtype=torch.float)\r\n",
    "t = torch.addcmul(t_0, tensor1, tensor2)\r\n",
    "print(t)"
   ],
   "outputs": [
    {
     "output_type": "stream",
     "name": "stdout",
     "text": [
      "tensor([[ 6.,  7.,  8.],\n",
      "        [ 9., 10., 11.]])\n"
     ]
    }
   ],
   "metadata": {}
  },
  {
   "cell_type": "code",
   "execution_count": 12,
   "source": [
    "import torch\r\n",
    "import matplotlib.pyplot as plt\r\n",
    "torch.manual_seed(10)\r\n",
    "\r\n",
    "lr = 0.05\r\n",
    "\r\n",
    "x = torch.rand(20, 1) * 10\r\n",
    "y = 2*x + (5 + torch.randn(20, 1))\r\n",
    "print('x:{}'.format(x.data))\r\n",
    "print('y:{}'.format(y.data))\r\n",
    "\r\n",
    "w = torch.randn((1), requires_grad=True)\r\n",
    "b = torch.zeros((1), requires_grad=True)\r\n",
    "\r\n",
    "for iteration in range(1000):\r\n",
    "    wx = torch.mul(w, x)\r\n",
    "    y_pred = torch.add(wx, b)\r\n",
    "\r\n",
    "    loss = (0.5*(y - y_pred)**2).mean()\r\n",
    "\r\n",
    "    loss.backward()\r\n",
    "\r\n",
    "    b.data.sub_(lr*b.grad)\r\n",
    "    w.data.sub_(lr*w.grad)\r\n",
    "\r\n",
    "    w.grad.zero_()\r\n",
    "    b.grad.zero_()\r\n",
    "\r\n",
    "    if iteration % 200 == 0:\r\n",
    "        plt.scatter(x.data, y.data)\r\n",
    "        plt.plot(x.data.numpy(), y_pred.data.numpy(), 'r-', lw=3)\r\n",
    "        plt.text(2, 20, 'loss=%.4f' % loss.data.numpy(), fontdict={'size':20, 'color':'red'})\r\n",
    "        plt.xlim(1.5, 10)\r\n",
    "        plt.ylim(8, 28)\r\n",
    "        plt.title('Iteration:{}\\nw:{}b:{}'.format(iteration, w.data.numpy(), b.data.numpy()))\r\n",
    "        plt.pause(0.5)\r\n",
    "\r\n",
    "        if loss.data < 0.1:\r\n",
    "            break\r\n"
   ],
   "outputs": [
    {
     "output_type": "stream",
     "name": "stdout",
     "text": [
      "x:tensor([[4.5808],\n",
      "        [4.8286],\n",
      "        [3.1250],\n",
      "        [6.1502],\n",
      "        [2.1395],\n",
      "        [4.1183],\n",
      "        [6.9379],\n",
      "        [9.6931],\n",
      "        [6.1780],\n",
      "        [3.3037],\n",
      "        [5.4794],\n",
      "        [4.4396],\n",
      "        [7.0409],\n",
      "        [5.5725],\n",
      "        [6.9586],\n",
      "        [9.8493],\n",
      "        [2.9237],\n",
      "        [4.8233],\n",
      "        [6.1499],\n",
      "        [4.9673]])\n",
      "y:tensor([[15.2380],\n",
      "        [14.5909],\n",
      "        [11.3815],\n",
      "        [17.4685],\n",
      "        [10.9084],\n",
      "        [11.1181],\n",
      "        [19.6586],\n",
      "        [25.3165],\n",
      "        [18.1360],\n",
      "        [10.6657],\n",
      "        [15.0999],\n",
      "        [14.2362],\n",
      "        [20.4177],\n",
      "        [16.4525],\n",
      "        [19.5450],\n",
      "        [24.5980],\n",
      "        [11.8981],\n",
      "        [14.0012],\n",
      "        [18.2942],\n",
      "        [13.2993]])\n"
     ]
    },
    {
     "output_type": "display_data",
     "data": {
      "image/png": "[encoded data removed]",
      "text/plain": [
       "<Figure size 432x288 with 1 Axes>"
      ]
     },
     "metadata": {
      "needs_background": "light"
     }
    },
    {
     "output_type": "display_data",
     "data": {
      "image/png": "[encoded data removed]",
      "text/plain": [
       "<Figure size 432x288 with 1 Axes>"
      ]
     },
     "metadata": {
      "needs_background": "light"
     }
    },
    {
     "output_type": "display_data",
     "data": {
      "image/png": "[encoded data removed]",
      "text/plain": [
       "<Figure size 432x288 with 1 Axes>"
      ]
     },
     "metadata": {
      "needs_background": "light"
     }
    },
    {
     "output_type": "display_data",
     "data": {
      "image/png": "[encoded data removed]",
      "text/plain": [
       "<Figure size 432x288 with 1 Axes>"
      ]
     },
     "metadata": {
      "needs_background": "light"
     }
    },
    {
     "output_type": "display_data",
     "data": {
      "image/png": "[encoded data removed]",
      "text/plain": [
       "<Figure size 432x288 with 1 Axes>"
      ]
     },
     "metadata": {
      "needs_background": "light"
     }
    }
   ],
   "metadata": {}
  },
  {
   "cell_type": "code",
   "execution_count": null,
   "source": [],
   "outputs": [],
   "metadata": {}
  }
 ],
 "metadata": {
  "orig_nbformat": 4,
  "language_info": {
   "name": "python",
   "version": "3.7.10",
   "mimetype": "text/x-python",
   "codemirror_mode": {
    "name": "ipython",
    "version": 3
   },
   "pygments_lexer": "ipython3",
   "nbconvert_exporter": "python",
   "file_extension": ".py"
  },
  "kernelspec": {
   "name": "python3",
   "display_name": "Python 3.7.10 64-bit ('pytorch': conda)"
  },
  "interpreter": {
   "hash": "0b44c525ca95e5dbf893da2282eb3ec3f420cb9fa59d94f9af90ca833dc1a37c"
  }
 },
 "nbformat": 4,
 "nbformat_minor": 2
}
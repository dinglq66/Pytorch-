{
 "cells": [
  {
   "cell_type": "code",
   "execution_count": 1,
   "source": [
    "import torch"
   ],
   "outputs": [],
   "metadata": {}
  },
  {
   "cell_type": "code",
   "execution_count": 19,
   "source": [
    "w = torch.tensor([1.], requires_grad=True)\r\n",
    "x = torch.tensor([2.], requires_grad=True)\r\n",
    "a = torch.add(w, x)\r\n",
    "b = torch.add(w, 1)\r\n",
    "y = torch.mul(a, b)\r\n",
    "\r\n",
    "y.backward(retain_graph=True)\r\n",
    "print(w.grad)\r\n",
    "# w.grad.zero_()\r\n",
    "\r\n",
    "y.backward()\r\n",
    "print(w.grad)"
   ],
   "outputs": [
    {
     "output_type": "stream",
     "name": "stdout",
     "text": [
      "tensor([5.])\n",
      "tensor([5.])\n"
     ]
    }
   ],
   "metadata": {}
  },
  {
   "cell_type": "code",
   "execution_count": 16,
   "source": [
    "w = torch.tensor([1.], requires_grad=True)\r\n",
    "x = torch.tensor([2.], requires_grad=True)\r\n",
    "\r\n",
    "a  = torch.add(w, x)\r\n",
    "b = torch.add(w, 1)\r\n",
    "y0 = torch.mul(a, b)\r\n",
    "y1 = torch.add(a, b)\r\n",
    "\r\n",
    "loss = torch.cat([y0, y1], dim=0)\r\n",
    "print('shape of loss:{}'.format(loss.shape))\r\n",
    "grad_tensors = torch.tensor([1., 2.])\r\n",
    "\r\n",
    "loss.backward(gradient=grad_tensors)\r\n",
    "print(w.grad)\r\n",
    "print(x.grad)"
   ],
   "outputs": [
    {
     "output_type": "stream",
     "name": "stdout",
     "text": [
      "shape of loss:torch.Size([2])\n",
      "tensor([9.])\n",
      "tensor([4.])\n"
     ]
    }
   ],
   "metadata": {}
  },
  {
   "cell_type": "code",
   "execution_count": 17,
   "source": [
    "x = torch.tensor([3.], requires_grad=True)\r\n",
    "y = pow(x, 2)\r\n",
    "grad_1 = torch.autograd.grad(y, x, create_graph=True)\r\n",
    "print(grad_1)\r\n",
    "grad_2 = torch.autograd.grad(grad_1[0], x)\r\n",
    "print(grad_2) "
   ],
   "outputs": [
    {
     "output_type": "stream",
     "name": "stdout",
     "text": [
      "(tensor([6.], grad_fn=<MulBackward0>),)\n",
      "(tensor([2.]),)\n"
     ]
    }
   ],
   "metadata": {}
  },
  {
   "cell_type": "code",
   "execution_count": 18,
   "source": [
    "w = torch.tensor([1.], requires_grad=True)\r\n",
    "x = torch.tensor([2.], requires_grad=True)\r\n",
    "# 进行 4 次反向传播求导，每次最后都没有清零\r\n",
    "for i in range(4):\r\n",
    "    a = torch.add(w, x)\r\n",
    "    b = torch.add(w, 1)\r\n",
    "    y = torch.mul(a, b)\r\n",
    "    y.backward()\r\n",
    "    print(w.grad)"
   ],
   "outputs": [
    {
     "output_type": "stream",
     "name": "stdout",
     "text": [
      "tensor([5.])\n",
      "tensor([10.])\n",
      "tensor([15.])\n",
      "tensor([20.])\n"
     ]
    }
   ],
   "metadata": {}
  },
  {
   "cell_type": "code",
   "execution_count": 20,
   "source": [
    "print('非inplace操作')\r\n",
    "t = torch.ones(1)\r\n",
    "print(id(t), t)\r\n",
    "t = t + torch.ones(1)\r\n",
    "print(id(t), t)\r\n",
    "\r\n",
    "print('inplace操作')\r\n",
    "a = torch.ones(1)\r\n",
    "print(id(a), a)\r\n",
    "a += torch.ones(1)\r\n",
    "print(id(a), a)"
   ],
   "outputs": [
    {
     "output_type": "stream",
     "name": "stdout",
     "text": [
      "非inplace操作\n",
      "3082445421768 tensor([1.])\n",
      "3082445372616 tensor([2.])\n",
      "inplace操作\n",
      "3082445408120 tensor([1.])\n",
      "3082445408120 tensor([2.])\n"
     ]
    }
   ],
   "metadata": {}
  },
  {
   "cell_type": "code",
   "execution_count": null,
   "source": [],
   "outputs": [],
   "metadata": {}
  }
 ],
 "metadata": {
  "orig_nbformat": 4,
  "language_info": {
   "name": "python",
   "version": "3.7.10",
   "mimetype": "text/x-python",
   "codemirror_mode": {
    "name": "ipython",
    "version": 3
   },
   "pygments_lexer": "ipython3",
   "nbconvert_exporter": "python",
   "file_extension": ".py"
  },
  "kernelspec": {
   "name": "python3",
   "display_name": "Python 3.7.10 64-bit ('pytorch': conda)"
  },
  "interpreter": {
   "hash": "0b44c525ca95e5dbf893da2282eb3ec3f420cb9fa59d94f9af90ca833dc1a37c"
  }
 },
 "nbformat": 4,
 "nbformat_minor": 2
}
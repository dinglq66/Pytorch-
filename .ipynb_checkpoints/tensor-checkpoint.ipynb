{
 "cells": [
  {
   "cell_type": "code",
   "execution_count": 1,
   "id": "baee186f",
   "metadata": {},
   "outputs": [],
   "source": [
    "import torch\n",
    "import numpy as np"
   ]
  },
  {
   "cell_type": "code",
   "execution_count": 2,
   "id": "de9a7277",
   "metadata": {},
   "outputs": [
    {
     "name": "stdout",
     "output_type": "stream",
     "text": [
      "['/Users/dlq/Pytorch_record', '/Users/dlq/Pytorch_record', '', '/opt/homebrew/Cellar/pyside@2/5.15.2/lib/python3.9/site-packages', '/Users/dlq/miniforge3/envs/pytorch/lib/python39.zip', '/Users/dlq/miniforge3/envs/pytorch/lib/python3.9', '/Users/dlq/miniforge3/envs/pytorch/lib/python3.9/lib-dynload', '/Users/dlq/miniforge3/envs/pytorch/lib/python3.9/site-packages', '/Users/dlq/miniforge3/envs/pytorch/lib/python3.9/site-packages/IPython/extensions', '/Users/dlq/.ipython']\n"
     ]
    }
   ],
   "source": [
    "import sys\n",
    "\n",
    "print(sys.path)"
   ]
  },
  {
   "cell_type": "code",
   "execution_count": 5,
   "id": "99409351",
   "metadata": {},
   "outputs": [
    {
     "name": "stdout",
     "output_type": "stream",
     "text": [
      "tensor([[1, 2],\n",
      "        [3, 4]])\n"
     ]
    }
   ],
   "source": [
    "data = [[1, 2], [3, 4]]\n",
    "x_data = torch.tensor(data)\n",
    "\n",
    "print(x_data)"
   ]
  },
  {
   "cell_type": "code",
   "execution_count": 7,
   "id": "5f20e89e",
   "metadata": {},
   "outputs": [
    {
     "name": "stdout",
     "output_type": "stream",
     "text": [
      "tensor([[1, 2],\n",
      "        [3, 4]])\n"
     ]
    }
   ],
   "source": [
    "np_array = np.array(data)\n",
    "x_np = torch.from_numpy(np_array)\n",
    "\n",
    "print(x_np)"
   ]
  },
  {
   "cell_type": "code",
   "execution_count": 10,
   "id": "a2cf74e2",
   "metadata": {},
   "outputs": [
    {
     "name": "stdout",
     "output_type": "stream",
     "text": [
      "x_ones:\n",
      "tensor([[1, 1],\n",
      "        [1, 1]])\n",
      "x_rand:\n",
      "tensor([[0.9053, 0.2512],\n",
      "        [0.8981, 0.7536]])\n"
     ]
    }
   ],
   "source": [
    "x_ones = torch.ones_like(x_data)\n",
    "print(f'x_ones:\\n{x_ones}')\n",
    "x_rand = torch.rand_like(x_data, dtype=torch.float)\n",
    "print(f'x_rand:\\n{x_rand}')"
   ]
  },
  {
   "cell_type": "code",
   "execution_count": null,
   "id": "4d7eb9d6",
   "metadata": {},
   "outputs": [],
   "source": []
  },
  {
   "cell_type": "code",
   "execution_count": null,
   "id": "64d6b8a4",
   "metadata": {},
   "outputs": [],
   "source": []
  }
 ],
 "metadata": {
  "kernelspec": {
   "display_name": "Python 3 (ipykernel)",
   "language": "python",
   "name": "python3"
  },
  "language_info": {
   "codemirror_mode": {
    "name": "ipython",
    "version": 3
   },
   "file_extension": ".py",
   "mimetype": "text/x-python",
   "name": "python",
   "nbconvert_exporter": "python",
   "pygments_lexer": "ipython3",
   "version": "3.9.6"
  }
 },
 "nbformat": 4,
 "nbformat_minor": 5
}

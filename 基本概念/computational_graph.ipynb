{
 "cells": [
  {
   "cell_type": "code",
   "execution_count": 1,
   "source": [
    "import torch"
   ],
   "outputs": [],
   "metadata": {}
  },
  {
   "cell_type": "code",
   "execution_count": 7,
   "source": [
    "w = torch.tensor([1.], requires_grad=True)\r\n",
    "x = torch.tensor([2.], requires_grad=True)\r\n",
    "# y=(x+w)(w+1)\r\n",
    "a = torch.add(w, x)\r\n",
    "b = torch.add(w, 1)\r\n",
    "y = torch.mul(a, b)\r\n",
    "\r\n",
    "y.backward()\r\n",
    "print(w.grad)"
   ],
   "outputs": [
    {
     "output_type": "stream",
     "name": "stdout",
     "text": [
      "tensor([5.])\n"
     ]
    }
   ],
   "metadata": {}
  },
  {
   "cell_type": "code",
   "execution_count": 8,
   "source": [
    "print('is_leaf:\\n', w.is_leaf, x.is_leaf, a.is_leaf, b.is_leaf, y.is_leaf)\r\n",
    "\r\n",
    "print('gradient:\\n', w.grad, x.grad, a.grad, b.grad, y.grad)"
   ],
   "outputs": [
    {
     "output_type": "stream",
     "name": "stdout",
     "text": [
      "is_leaf:\n",
      " True True False False False\n",
      "gradient:\n",
      " tensor([5.]) tensor([2.]) None None None\n"
     ]
    },
    {
     "output_type": "stream",
     "name": "stderr",
     "text": [
      "D:\\Anaconda\\envs\\pytorch\\lib\\site-packages\\ipykernel_launcher.py:3: UserWarning: The .grad attribute of a Tensor that is not a leaf Tensor is being accessed. Its .grad attribute won't be populated during autograd.backward(). If you indeed want the gradient for a non-leaf Tensor, use .retain_grad() on the non-leaf Tensor. If you access the non-leaf Tensor by mistake, make sure you access the leaf Tensor instead. See github.com/pytorch/pytorch/pull/30531 for more information.\n",
      "  This is separate from the ipykernel package so we can avoid doing imports until\n"
     ]
    }
   ],
   "metadata": {}
  },
  {
   "cell_type": "code",
   "execution_count": 10,
   "source": [
    "print('w.grad_fn:', w.grad_fn)\r\n",
    "print('x.grad_fn:', x.grad_fn)\r\n",
    "print('a.grad_fn:', a.grad_fn)\r\n",
    "print('b.grad_fn:', b.grad_fn)\r\n",
    "print('y.grad_fn:', y.grad_fn)"
   ],
   "outputs": [
    {
     "output_type": "stream",
     "name": "stdout",
     "text": [
      "w.grad_fn: None\n",
      "x.grad_fn: None\n",
      "a.grad_fn: <AddBackward0 object at 0x000002684AA07D48>\n",
      "b.grad_fn: <AddBackward0 object at 0x000002684AA07CC8>\n",
      "y.grad_fn: <MulBackward0 object at 0x000002684AA07D48>\n"
     ]
    }
   ],
   "metadata": {}
  },
  {
   "cell_type": "code",
   "execution_count": null,
   "source": [],
   "outputs": [],
   "metadata": {}
  }
 ],
 "metadata": {
  "orig_nbformat": 4,
  "language_info": {
   "name": "python",
   "version": "3.7.10",
   "mimetype": "text/x-python",
   "codemirror_mode": {
    "name": "ipython",
    "version": 3
   },
   "pygments_lexer": "ipython3",
   "nbconvert_exporter": "python",
   "file_extension": ".py"
  },
  "kernelspec": {
   "name": "python3",
   "display_name": "Python 3.7.10 64-bit ('pytorch': conda)"
  },
  "interpreter": {
   "hash": "0b44c525ca95e5dbf893da2282eb3ec3f420cb9fa59d94f9af90ca833dc1a37c"
  }
 },
 "nbformat": 4,
 "nbformat_minor": 2
}
{
 "cells": [
  {
   "cell_type": "markdown",
   "source": [
    "# Transform\n",
    "数据并不是总是以我们需要的最终处理形式出现的，我们可以使用transform对数据进行一些操作，并使其适合训练。\n",
    "所有Torchvision数据集都有两个参数——transform用以修改图像，target-transform用以修改标签，它们接受包含转换逻辑的可调用文件。torchvision.transforms模块开箱即用提供了几种常用的转换。\n",
    "FashionMNIST数据集中图像格式为PIL图像，标签为整数型。对于训练过程，我们需要规范张量的变换，以及单热编码张量的标签。为了进行这些转换，我们使用ToTensor和Lambda。"
   ],
   "metadata": {}
  },
  {
   "cell_type": "code",
   "execution_count": 3,
   "source": [
    "import torch\n",
    "from torchvision.transforms import ToTensor, Lambda\n",
    "from torchvision import datasets\n",
    "\n",
    "ds = datasets.FashionMNIST(\n",
    "    root='data',\n",
    "    train=True,\n",
    "    download=True,\n",
    "    transform=ToTensor(),\n",
    "    target_transform=Lambda(lambda y: torch.zeros(10, dtype=torch.float).scatter_(0, torch.tensor(y), value=1))\n",
    ")\n"
   ],
   "outputs": [],
   "metadata": {}
  },
  {
   "cell_type": "markdown",
   "source": [
    "## ToTensor()\n",
    "ToTensor将PIL图像或Numpy ndarray转换为FloatTensor，并在【0.，1.】范围内缩放图像的像素强度值。\n",
    "## Lambda变换\n",
    "Lambda转换应用任何用户定义的lambda函数。在这里，我们定义了一个函数，将整数转换为一热编码张量。它首先创建一个大小为10的零张量，并调用scatter_，该scatter_在标签y给出的索引上分配value=1."
   ],
   "metadata": {}
  },
  {
   "cell_type": "code",
   "execution_count": null,
   "source": [],
   "outputs": [],
   "metadata": {}
  }
 ],
 "metadata": {
  "orig_nbformat": 4,
  "language_info": {
   "name": "python",
   "version": "3.9.6",
   "mimetype": "text/x-python",
   "codemirror_mode": {
    "name": "ipython",
    "version": 3
   },
   "pygments_lexer": "ipython3",
   "nbconvert_exporter": "python",
   "file_extension": ".py"
  },
  "kernelspec": {
   "name": "python3",
   "display_name": "Python 3.9.6 64-bit ('pytorch': conda)"
  },
  "interpreter": {
   "hash": "028035cf017d87bb851db29ebd50d359435970863d4fb5b203bd6f380b6099ff"
  }
 },
 "nbformat": 4,
 "nbformat_minor": 2
}